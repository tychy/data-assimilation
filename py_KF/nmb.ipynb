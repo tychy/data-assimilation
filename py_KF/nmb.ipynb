{
 "metadata": {
  "language_info": {
   "codemirror_mode": {
    "name": "ipython",
    "version": 3
   },
   "file_extension": ".py",
   "mimetype": "text/x-python",
   "name": "python",
   "nbconvert_exporter": "python",
   "pygments_lexer": "ipython3",
   "version": "3.8.0-final"
  },
  "orig_nbformat": 2,
  "kernelspec": {
   "name": "Python 3.8.0 64-bit ('3.8.0')",
   "display_name": "Python 3.8.0 64-bit ('3.8.0')",
   "metadata": {
    "interpreter": {
     "hash": "fd36cc3e0a41e7c3ece80212bce4facb7d741dd8cc9dc182c25421f6b9e687b7"
    }
   }
  }
 },
 "nbformat": 4,
 "nbformat_minor": 2,
 "cells": [
  {
   "cell_type": "code",
   "execution_count": 1,
   "metadata": {},
   "outputs": [],
   "source": [
    "import random\n",
    "import os\n",
    "import matplotlib.pyplot as plt\n",
    "import numpy as np\n",
    "from scipy.integrate import odeint\n",
    "from sklearn.metrics import mean_squared_error\n",
    "from tqdm.notebook import tqdm_notebook as tqdm\n",
    "\n",
    "from kflib import *\n",
    "\n",
    "plt.rcParams[\"figure.figsize\"] = (20, 6)"
   ]
  },
  {
   "cell_type": "code",
   "execution_count": 4,
   "metadata": {},
   "outputs": [
    {
     "output_type": "error",
     "ename": "SyntaxError",
     "evalue": "unexpected EOF while parsing (&lt;ipython-input-4-d069470a5bb6&gt;, line 15)",
     "traceback": [
      "\u001b[0;36m  File \u001b[0;32m&quot;&lt;ipython-input-4-d069470a5bb6&gt;&quot;\u001b[0;36m, line \u001b[0;32m15\u001b[0m\n\u001b[0;31m    else:\u001b[0m\n\u001b[0m         ^\u001b[0m\n\u001b[0;31mSyntaxError\u001b[0m\u001b[0;31m:\u001b[0m unexpected EOF while parsing\n"
     ]
    }
   ],
   "source": [
    "N = 40\n",
    "F = 8\n",
    "if not( os.path.exists(\"datawithnoise.txt\") and os.path.exists(\"gendata.txt\")):\n",
    "    x0 = F * np.ones(N)  # Initial state (equilibrium)\n",
    "    x0[0] += 0.01  # Add small perturbation to the first variable\n",
    "    x = l96_step(x0, 10)\n",
    "    x_one = l96_step(x0, 73.0)  # spin up\n",
    "    x = l96_step(x_one[-1], 73.0)\n",
    "    data = x[::5]\n",
    "    np.savetxt(\"gendata.txt\", data)\n",
    "    random_ls = np.random.randn(data.shape[0], x[::5].shape[1])\n",
    "    datawithnoise = data + random_ls\n",
    "    np.savetxt(\"datawithnoise.txt\", datawithnoise)\n",
    "    x_last = x_one[-1]\n",
    "else:\n",
    "    data = np.loadtxt(\"gendata.txt\")\n",
    "    datawithnoise = np.loadtxt(\"datawithnoise.txt\")"
   ]
  },
  {
   "cell_type": "code",
   "execution_count": null,
   "metadata": {},
   "outputs": [],
   "source": []
  },
  {
   "cell_type": "code",
   "execution_count": null,
   "metadata": {},
   "outputs": [],
   "source": []
  },
  {
   "cell_type": "code",
   "execution_count": 3,
   "metadata": {
    "tags": []
   },
   "outputs": [
    {
     "output_type": "stream",
     "name": "stdout",
     "text": "(1460, 40)\n"
    }
   ],
   "source": []
  },
  {
   "cell_type": "code",
   "execution_count": null,
   "metadata": {},
   "outputs": [],
   "source": []
  }
 ]
}